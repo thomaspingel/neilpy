{
 "cells": [
  {
   "cell_type": "code",
   "execution_count": 3,
   "metadata": {},
   "outputs": [],
   "source": [
    "import neilpy\n",
    "import pandas as pd\n",
    "import glob\n",
    "import os\n",
    "\n",
    "# Load image names into a list\n",
    "images_dir = 'POAS/*.jpg'\n",
    "fns = glob.glob(images_dir)\n",
    "\n",
    "# Read the geotags into a dataframe\n",
    "photos_df = neilpy.read_geotags_into_df(fns,return_datetimes=False)\n",
    "\n",
    "# Fix names, as we don't want to include the path to the image, just the basename\n",
    "photos_df['fn'] = photos_df['fn'].apply(os.path.basename)\n",
    "\n",
    "# Calculate the azimuths based on the tracks\n",
    "photos_df['azimuth'] = neilpy.track2azimuth(photos_df['lat'].values,photos_df['lon'].values)\n",
    "\n",
    "# Based on a specified pitch estimated during the mounting, calculate Omega, Phi, and Kappa angles\n",
    "pitch = -70\n",
    "photos_df['omega'],photos_df['phi'],photos_df['kappa'] = neilpy.ypr2opk(photos_df['azimuth'].values,pitch)\n",
    "\n",
    "# Correct for GEOID\n",
    "photos_df['alt'] = photos_df['alt'] + 35.356 \n",
    "\n",
    "# Define accuracy of measurements:\n",
    "photos_df['xy_acc'] = 2.\n",
    "photos_df['z_acc'] = 2.\n",
    "\n",
    "# Write out the values\n",
    "outfile = 'sept_poas_opk.csv'\n",
    "cols = ['fn','lat','lon','alt','omega','phi','kappa','xy_acc','z_acc']\n",
    "photos_df.to_csv(outfile,index=False,header=False,columns=cols)"
   ]
  },
  {
   "cell_type": "code",
   "execution_count": null,
   "metadata": {},
   "outputs": [],
   "source": []
  }
 ],
 "metadata": {
  "kernelspec": {
   "display_name": "Python 3",
   "language": "python",
   "name": "python3"
  },
  "language_info": {
   "codemirror_mode": {
    "name": "ipython",
    "version": 3
   },
   "file_extension": ".py",
   "mimetype": "text/x-python",
   "name": "python",
   "nbconvert_exporter": "python",
   "pygments_lexer": "ipython3",
   "version": "3.8.6"
  }
 },
 "nbformat": 4,
 "nbformat_minor": 4
}
