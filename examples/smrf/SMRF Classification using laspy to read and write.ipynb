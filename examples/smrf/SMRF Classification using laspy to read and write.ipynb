{
 "cells": [
  {
   "cell_type": "code",
   "execution_count": 4,
   "metadata": {},
   "outputs": [],
   "source": [
    "from laspy.file import File\n",
    "import neilpy"
   ]
  },
  {
   "cell_type": "code",
   "execution_count": 5,
   "metadata": {},
   "outputs": [],
   "source": [
    "# Sourced from ftp://rockyftp.cr.usgs.gov/vdelivery/Datasets/Staged/Elevation/LPC/Projects/VA_FEMA-NRCS_SouthCentral_2017_D17/VA_South_Central_B1_2017/LAZ/USGS_LPC_VA_FEMA-NRCS_SouthCentral_2017_D17_17SNB52002200.laz\n",
    "\n",
    "inFile = File('USGS_LPC_VA_FEMA-NRCS_SouthCentral_2017_D17_17SNB52002200.laz')"
   ]
  },
  {
   "cell_type": "code",
   "execution_count": 31,
   "metadata": {},
   "outputs": [],
   "source": [
    "Zpro,t,object_cells,is_object_point = neilpy.smrf(inFile.x,inFile.y,inFile.y,cellsize=1,windows=7,slope_threshold=.15,elevation_threshold=.5,elevation_scaler=1.25,low_filter_slope=5,low_outlier_fill=False)"
   ]
  },
  {
   "cell_type": "code",
   "execution_count": 33,
   "metadata": {},
   "outputs": [],
   "source": [
    "# We'll use the header from the original to save trouble, copy over the x,y,z coords and add the SMRFed ground point classification.\n",
    "# (SMRF returns a boolean vector of object points, so a little math to convert to ASPRS standard 2-is-ground format.)\n",
    "\n",
    "outFile1 = File(\"ground.las\", mode = \"w\", header = inFile.header)\n",
    "outFile1.x = inFile.x\n",
    "outFile1.y = inFile.y\n",
    "outFile1.z = inFile.z\n",
    "outFile1.classification = 2*(1-is_object_point.astype(np.int))\n",
    "outFile1.close()"
   ]
  },
  {
   "cell_type": "code",
   "execution_count": 34,
   "metadata": {},
   "outputs": [],
   "source": [
    "inFile.close()"
   ]
  }
 ],
 "metadata": {
  "kernelspec": {
   "display_name": "Python 3",
   "language": "python",
   "name": "python3"
  },
  "language_info": {
   "codemirror_mode": {
    "name": "ipython",
    "version": 3
   },
   "file_extension": ".py",
   "mimetype": "text/x-python",
   "name": "python",
   "nbconvert_exporter": "python",
   "pygments_lexer": "ipython3",
   "version": "3.8.6"
  }
 },
 "nbformat": 4,
 "nbformat_minor": 4
}
